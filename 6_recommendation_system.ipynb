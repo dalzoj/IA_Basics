{
  "metadata": {
    "kernelspec": {
      "display_name": "Python 3",
      "name": "python3"
    },
    "language_info": {
      "pygments_lexer": "ipython3",
      "nbconvert_exporter": "python",
      "version": "3.6.4",
      "file_extension": ".py",
      "codemirror_mode": {
        "name": "ipython",
        "version": 3
      },
      "name": "python",
      "mimetype": "text/x-python"
    },
    "colab": {
      "provenance": []
    }
  },
  "nbformat_minor": 0,
  "nbformat": 4,
  "cells": [
    {
      "cell_type": "markdown",
      "source": [
        "# Movie Recommendation using Surprise"
      ],
      "metadata": {
        "id": "tS6dPQZOKLa2"
      }
    },
    {
      "cell_type": "markdown",
      "source": [
        "## What a Surprise!\n",
        "Surprise proporciona el método de Factorización Matricial necesario para implementar el Filtrado Colaborativo.\n",
        "\n",
        "Surprise consta de tres módulos principales.\n",
        "\n",
        "* Conjunto de datos: Un módulo para cargar, preprocesar y transformar datos. Surprise puede manejar datos en varios formatos. Por ejemplo, CSV, tsv, pandas DataFrame, o un archivo de datos en un formato que usted mismo defina.\n",
        "\n",
        "* Algoritmo: Un módulo para implementar algoritmos de recomendación. Surprise ofrece varios algoritmos como SVD, NMF, PMF, Slope One, KNN Basic, KNN With Means, KNN With Z-Score, BaselineOnly, CoClustering.\n",
        "\n",
        "* Evaluación: Un módulo para evaluar el rendimiento de los algoritmos de recomendación. Surprise proporciona varias métricas de evaluación como Cross-validation, Train-test split, Precision, Recall, F1-score, RMSE, MAE, MAPE, Coverage, etc.\n",
        "\n",
        "Traducción realizada con la versión gratuita del traductor DeepL.com"
      ],
      "metadata": {
        "id": "zpMYGhx4KLa4"
      }
    },
    {
      "cell_type": "markdown",
      "source": [
        "## Método de Factorización Matricial para el Filtrado Colaborativo\n",
        "La Factorización Matricial es una técnica popular utilizada en el filtrado colaborativo para predecir las valoraciones usuario-artículo basándose en las valoraciones previas dadas por los usuarios. El filtrado colaborativo es un tipo de sistema de recomendación que se basa en el comportamiento anterior de usuarios/artículos similares para hacer recomendaciones.\n",
        "\n",
        "La factorización de matrices se basa en la idea de descomponer la matriz de valoraciones usuario-artículo en dos matrices de menor dimensión: una representa a los usuarios y la otra a los artículos. La representación de menor dimensión captura los factores latentes o características que influyen en la preferencia de un usuario por un artículo. Los factores pueden incluir, por ejemplo, el género de la película, el director, los actores, o la edad, el sexo, etc. del usuario.\n",
        "\n",
        "Traducción realizada con la versión gratuita del traductor DeepL.com\n"
      ],
      "metadata": {
        "id": "ZwWD0Mv3KLa4"
      }
    },
    {
      "cell_type": "code",
      "source": [
        "!pip install scikit-surprise"
      ],
      "metadata": {
        "colab": {
          "base_uri": "https://localhost:8080/"
        },
        "id": "W_b2rylynjCn",
        "outputId": "23b2ca33-4c31-456f-d6c5-43780c45edab"
      },
      "execution_count": 1,
      "outputs": [
        {
          "output_type": "stream",
          "name": "stdout",
          "text": [
            "Collecting scikit-surprise\n",
            "  Downloading scikit-surprise-1.1.3.tar.gz (771 kB)\n",
            "\u001b[?25l     \u001b[90m━━━━━━━━━━━━━━━━━━━━━━━━━━━━━━━━━━━━━━━━\u001b[0m \u001b[32m0.0/772.0 kB\u001b[0m \u001b[31m?\u001b[0m eta \u001b[36m-:--:--\u001b[0m\r\u001b[2K     \u001b[91m━━━━\u001b[0m\u001b[91m╸\u001b[0m\u001b[90m━━━━━━━━━━━━━━━━━━━━━━━━━━━━━━━━━━━\u001b[0m \u001b[32m92.2/772.0 kB\u001b[0m \u001b[31m2.5 MB/s\u001b[0m eta \u001b[36m0:00:01\u001b[0m\r\u001b[2K     \u001b[91m━━━━━━━━━━━━━━━━━━━━━━━━━━━━━━━━━━━━━━━\u001b[0m\u001b[91m╸\u001b[0m \u001b[32m768.0/772.0 kB\u001b[0m \u001b[31m13.2 MB/s\u001b[0m eta \u001b[36m0:00:01\u001b[0m\r\u001b[2K     \u001b[90m━━━━━━━━━━━━━━━━━━━━━━━━━━━━━━━━━━━━━━━━\u001b[0m \u001b[32m772.0/772.0 kB\u001b[0m \u001b[31m10.0 MB/s\u001b[0m eta \u001b[36m0:00:00\u001b[0m\n",
            "\u001b[?25h  Preparing metadata (setup.py) ... \u001b[?25l\u001b[?25hdone\n",
            "Requirement already satisfied: joblib>=1.0.0 in /usr/local/lib/python3.10/dist-packages (from scikit-surprise) (1.4.0)\n",
            "Requirement already satisfied: numpy>=1.17.3 in /usr/local/lib/python3.10/dist-packages (from scikit-surprise) (1.25.2)\n",
            "Requirement already satisfied: scipy>=1.3.2 in /usr/local/lib/python3.10/dist-packages (from scikit-surprise) (1.11.4)\n",
            "Building wheels for collected packages: scikit-surprise\n",
            "  Building wheel for scikit-surprise (setup.py) ... \u001b[?25l\u001b[?25hdone\n",
            "  Created wheel for scikit-surprise: filename=scikit_surprise-1.1.3-cp310-cp310-linux_x86_64.whl size=3162992 sha256=8212e929b867f538f17f96d0ed641f92ef16ae4f45803d46a465623b486f5a19\n",
            "  Stored in directory: /root/.cache/pip/wheels/a5/ca/a8/4e28def53797fdc4363ca4af740db15a9c2f1595ebc51fb445\n",
            "Successfully built scikit-surprise\n",
            "Installing collected packages: scikit-surprise\n",
            "Successfully installed scikit-surprise-1.1.3\n"
          ]
        }
      ]
    },
    {
      "cell_type": "code",
      "source": [
        "import os\n",
        "import random\n",
        "import operator\n",
        "import requests\n",
        "import numpy as np\n",
        "import pandas as pd\n",
        "from scipy import sparse\n",
        "import sys\n",
        "from surprise import Dataset, Reader\n",
        "from surprise import KNNBasic, SVD\n",
        "from surprise.model_selection import train_test_split\n",
        "from surprise import accuracy\n",
        "from surprise.dataset import DatasetAutoFolds\n",
        "import matplotlib.pyplot as plt\n",
        "import seaborn as sns\n"
      ],
      "metadata": {
        "execution": {
          "iopub.status.busy": "2023-03-19T08:29:58.609067Z",
          "iopub.execute_input": "2023-03-19T08:29:58.609577Z",
          "iopub.status.idle": "2023-03-19T08:29:58.617016Z",
          "shell.execute_reply.started": "2023-03-19T08:29:58.609536Z",
          "shell.execute_reply": "2023-03-19T08:29:58.615588Z"
        },
        "trusted": true,
        "id": "dS9LOdgLKLa4"
      },
      "execution_count": 2,
      "outputs": []
    },
    {
      "cell_type": "code",
      "source": [
        "URL = 'https://docs.google.com/spreadsheets/d/e/2PACX-1vTf8DbhhhC9Vb89GsgLayPQ_YC8A5EruAq_a8Wwb0ZIvy1LzfpyazoeC8-bCs2Xswk4HYu5Ejoq32U_/pub?gid=1594088694&single=true&output=csv'"
      ],
      "metadata": {
        "id": "vJrcgT5tP96Q"
      },
      "execution_count": 3,
      "outputs": []
    },
    {
      "cell_type": "code",
      "source": [
        "data = pd.read_csv(URL)\n",
        "data.head()"
      ],
      "metadata": {
        "execution": {
          "iopub.status.busy": "2023-03-19T08:29:58.619212Z",
          "iopub.execute_input": "2023-03-19T08:29:58.620017Z",
          "iopub.status.idle": "2023-03-19T08:29:58.693844Z",
          "shell.execute_reply.started": "2023-03-19T08:29:58.619946Z",
          "shell.execute_reply": "2023-03-19T08:29:58.692277Z"
        },
        "trusted": true,
        "id": "rCygQ2x2KLa5",
        "colab": {
          "base_uri": "https://localhost:8080/",
          "height": 206
        },
        "outputId": "ac5df383-9b14-4417-d29f-a76ffc10c41c"
      },
      "execution_count": 5,
      "outputs": [
        {
          "output_type": "execute_result",
          "data": {
            "text/plain": [
              "   userId  movieId  rating  timestamp\n",
              "0       1        1     4.0  964982703\n",
              "1       1        3     4.0  964981247\n",
              "2       1        6     4.0  964982224\n",
              "3       1       47     5.0  964983815\n",
              "4       1       50     5.0  964982931"
            ],
            "text/html": [
              "\n",
              "  <div id=\"df-26fe05c8-38de-4ae6-b50e-927ef432d0fa\" class=\"colab-df-container\">\n",
              "    <div>\n",
              "<style scoped>\n",
              "    .dataframe tbody tr th:only-of-type {\n",
              "        vertical-align: middle;\n",
              "    }\n",
              "\n",
              "    .dataframe tbody tr th {\n",
              "        vertical-align: top;\n",
              "    }\n",
              "\n",
              "    .dataframe thead th {\n",
              "        text-align: right;\n",
              "    }\n",
              "</style>\n",
              "<table border=\"1\" class=\"dataframe\">\n",
              "  <thead>\n",
              "    <tr style=\"text-align: right;\">\n",
              "      <th></th>\n",
              "      <th>userId</th>\n",
              "      <th>movieId</th>\n",
              "      <th>rating</th>\n",
              "      <th>timestamp</th>\n",
              "    </tr>\n",
              "  </thead>\n",
              "  <tbody>\n",
              "    <tr>\n",
              "      <th>0</th>\n",
              "      <td>1</td>\n",
              "      <td>1</td>\n",
              "      <td>4.0</td>\n",
              "      <td>964982703</td>\n",
              "    </tr>\n",
              "    <tr>\n",
              "      <th>1</th>\n",
              "      <td>1</td>\n",
              "      <td>3</td>\n",
              "      <td>4.0</td>\n",
              "      <td>964981247</td>\n",
              "    </tr>\n",
              "    <tr>\n",
              "      <th>2</th>\n",
              "      <td>1</td>\n",
              "      <td>6</td>\n",
              "      <td>4.0</td>\n",
              "      <td>964982224</td>\n",
              "    </tr>\n",
              "    <tr>\n",
              "      <th>3</th>\n",
              "      <td>1</td>\n",
              "      <td>47</td>\n",
              "      <td>5.0</td>\n",
              "      <td>964983815</td>\n",
              "    </tr>\n",
              "    <tr>\n",
              "      <th>4</th>\n",
              "      <td>1</td>\n",
              "      <td>50</td>\n",
              "      <td>5.0</td>\n",
              "      <td>964982931</td>\n",
              "    </tr>\n",
              "  </tbody>\n",
              "</table>\n",
              "</div>\n",
              "    <div class=\"colab-df-buttons\">\n",
              "\n",
              "  <div class=\"colab-df-container\">\n",
              "    <button class=\"colab-df-convert\" onclick=\"convertToInteractive('df-26fe05c8-38de-4ae6-b50e-927ef432d0fa')\"\n",
              "            title=\"Convert this dataframe to an interactive table.\"\n",
              "            style=\"display:none;\">\n",
              "\n",
              "  <svg xmlns=\"http://www.w3.org/2000/svg\" height=\"24px\" viewBox=\"0 -960 960 960\">\n",
              "    <path d=\"M120-120v-720h720v720H120Zm60-500h600v-160H180v160Zm220 220h160v-160H400v160Zm0 220h160v-160H400v160ZM180-400h160v-160H180v160Zm440 0h160v-160H620v160ZM180-180h160v-160H180v160Zm440 0h160v-160H620v160Z\"/>\n",
              "  </svg>\n",
              "    </button>\n",
              "\n",
              "  <style>\n",
              "    .colab-df-container {\n",
              "      display:flex;\n",
              "      gap: 12px;\n",
              "    }\n",
              "\n",
              "    .colab-df-convert {\n",
              "      background-color: #E8F0FE;\n",
              "      border: none;\n",
              "      border-radius: 50%;\n",
              "      cursor: pointer;\n",
              "      display: none;\n",
              "      fill: #1967D2;\n",
              "      height: 32px;\n",
              "      padding: 0 0 0 0;\n",
              "      width: 32px;\n",
              "    }\n",
              "\n",
              "    .colab-df-convert:hover {\n",
              "      background-color: #E2EBFA;\n",
              "      box-shadow: 0px 1px 2px rgba(60, 64, 67, 0.3), 0px 1px 3px 1px rgba(60, 64, 67, 0.15);\n",
              "      fill: #174EA6;\n",
              "    }\n",
              "\n",
              "    .colab-df-buttons div {\n",
              "      margin-bottom: 4px;\n",
              "    }\n",
              "\n",
              "    [theme=dark] .colab-df-convert {\n",
              "      background-color: #3B4455;\n",
              "      fill: #D2E3FC;\n",
              "    }\n",
              "\n",
              "    [theme=dark] .colab-df-convert:hover {\n",
              "      background-color: #434B5C;\n",
              "      box-shadow: 0px 1px 3px 1px rgba(0, 0, 0, 0.15);\n",
              "      filter: drop-shadow(0px 1px 2px rgba(0, 0, 0, 0.3));\n",
              "      fill: #FFFFFF;\n",
              "    }\n",
              "  </style>\n",
              "\n",
              "    <script>\n",
              "      const buttonEl =\n",
              "        document.querySelector('#df-26fe05c8-38de-4ae6-b50e-927ef432d0fa button.colab-df-convert');\n",
              "      buttonEl.style.display =\n",
              "        google.colab.kernel.accessAllowed ? 'block' : 'none';\n",
              "\n",
              "      async function convertToInteractive(key) {\n",
              "        const element = document.querySelector('#df-26fe05c8-38de-4ae6-b50e-927ef432d0fa');\n",
              "        const dataTable =\n",
              "          await google.colab.kernel.invokeFunction('convertToInteractive',\n",
              "                                                    [key], {});\n",
              "        if (!dataTable) return;\n",
              "\n",
              "        const docLinkHtml = 'Like what you see? Visit the ' +\n",
              "          '<a target=\"_blank\" href=https://colab.research.google.com/notebooks/data_table.ipynb>data table notebook</a>'\n",
              "          + ' to learn more about interactive tables.';\n",
              "        element.innerHTML = '';\n",
              "        dataTable['output_type'] = 'display_data';\n",
              "        await google.colab.output.renderOutput(dataTable, element);\n",
              "        const docLink = document.createElement('div');\n",
              "        docLink.innerHTML = docLinkHtml;\n",
              "        element.appendChild(docLink);\n",
              "      }\n",
              "    </script>\n",
              "  </div>\n",
              "\n",
              "\n",
              "<div id=\"df-7e089308-7dec-41bc-83aa-b00a74a20c83\">\n",
              "  <button class=\"colab-df-quickchart\" onclick=\"quickchart('df-7e089308-7dec-41bc-83aa-b00a74a20c83')\"\n",
              "            title=\"Suggest charts\"\n",
              "            style=\"display:none;\">\n",
              "\n",
              "<svg xmlns=\"http://www.w3.org/2000/svg\" height=\"24px\"viewBox=\"0 0 24 24\"\n",
              "     width=\"24px\">\n",
              "    <g>\n",
              "        <path d=\"M19 3H5c-1.1 0-2 .9-2 2v14c0 1.1.9 2 2 2h14c1.1 0 2-.9 2-2V5c0-1.1-.9-2-2-2zM9 17H7v-7h2v7zm4 0h-2V7h2v10zm4 0h-2v-4h2v4z\"/>\n",
              "    </g>\n",
              "</svg>\n",
              "  </button>\n",
              "\n",
              "<style>\n",
              "  .colab-df-quickchart {\n",
              "      --bg-color: #E8F0FE;\n",
              "      --fill-color: #1967D2;\n",
              "      --hover-bg-color: #E2EBFA;\n",
              "      --hover-fill-color: #174EA6;\n",
              "      --disabled-fill-color: #AAA;\n",
              "      --disabled-bg-color: #DDD;\n",
              "  }\n",
              "\n",
              "  [theme=dark] .colab-df-quickchart {\n",
              "      --bg-color: #3B4455;\n",
              "      --fill-color: #D2E3FC;\n",
              "      --hover-bg-color: #434B5C;\n",
              "      --hover-fill-color: #FFFFFF;\n",
              "      --disabled-bg-color: #3B4455;\n",
              "      --disabled-fill-color: #666;\n",
              "  }\n",
              "\n",
              "  .colab-df-quickchart {\n",
              "    background-color: var(--bg-color);\n",
              "    border: none;\n",
              "    border-radius: 50%;\n",
              "    cursor: pointer;\n",
              "    display: none;\n",
              "    fill: var(--fill-color);\n",
              "    height: 32px;\n",
              "    padding: 0;\n",
              "    width: 32px;\n",
              "  }\n",
              "\n",
              "  .colab-df-quickchart:hover {\n",
              "    background-color: var(--hover-bg-color);\n",
              "    box-shadow: 0 1px 2px rgba(60, 64, 67, 0.3), 0 1px 3px 1px rgba(60, 64, 67, 0.15);\n",
              "    fill: var(--button-hover-fill-color);\n",
              "  }\n",
              "\n",
              "  .colab-df-quickchart-complete:disabled,\n",
              "  .colab-df-quickchart-complete:disabled:hover {\n",
              "    background-color: var(--disabled-bg-color);\n",
              "    fill: var(--disabled-fill-color);\n",
              "    box-shadow: none;\n",
              "  }\n",
              "\n",
              "  .colab-df-spinner {\n",
              "    border: 2px solid var(--fill-color);\n",
              "    border-color: transparent;\n",
              "    border-bottom-color: var(--fill-color);\n",
              "    animation:\n",
              "      spin 1s steps(1) infinite;\n",
              "  }\n",
              "\n",
              "  @keyframes spin {\n",
              "    0% {\n",
              "      border-color: transparent;\n",
              "      border-bottom-color: var(--fill-color);\n",
              "      border-left-color: var(--fill-color);\n",
              "    }\n",
              "    20% {\n",
              "      border-color: transparent;\n",
              "      border-left-color: var(--fill-color);\n",
              "      border-top-color: var(--fill-color);\n",
              "    }\n",
              "    30% {\n",
              "      border-color: transparent;\n",
              "      border-left-color: var(--fill-color);\n",
              "      border-top-color: var(--fill-color);\n",
              "      border-right-color: var(--fill-color);\n",
              "    }\n",
              "    40% {\n",
              "      border-color: transparent;\n",
              "      border-right-color: var(--fill-color);\n",
              "      border-top-color: var(--fill-color);\n",
              "    }\n",
              "    60% {\n",
              "      border-color: transparent;\n",
              "      border-right-color: var(--fill-color);\n",
              "    }\n",
              "    80% {\n",
              "      border-color: transparent;\n",
              "      border-right-color: var(--fill-color);\n",
              "      border-bottom-color: var(--fill-color);\n",
              "    }\n",
              "    90% {\n",
              "      border-color: transparent;\n",
              "      border-bottom-color: var(--fill-color);\n",
              "    }\n",
              "  }\n",
              "</style>\n",
              "\n",
              "  <script>\n",
              "    async function quickchart(key) {\n",
              "      const quickchartButtonEl =\n",
              "        document.querySelector('#' + key + ' button');\n",
              "      quickchartButtonEl.disabled = true;  // To prevent multiple clicks.\n",
              "      quickchartButtonEl.classList.add('colab-df-spinner');\n",
              "      try {\n",
              "        const charts = await google.colab.kernel.invokeFunction(\n",
              "            'suggestCharts', [key], {});\n",
              "      } catch (error) {\n",
              "        console.error('Error during call to suggestCharts:', error);\n",
              "      }\n",
              "      quickchartButtonEl.classList.remove('colab-df-spinner');\n",
              "      quickchartButtonEl.classList.add('colab-df-quickchart-complete');\n",
              "    }\n",
              "    (() => {\n",
              "      let quickchartButtonEl =\n",
              "        document.querySelector('#df-7e089308-7dec-41bc-83aa-b00a74a20c83 button');\n",
              "      quickchartButtonEl.style.display =\n",
              "        google.colab.kernel.accessAllowed ? 'block' : 'none';\n",
              "    })();\n",
              "  </script>\n",
              "</div>\n",
              "\n",
              "    </div>\n",
              "  </div>\n"
            ],
            "application/vnd.google.colaboratory.intrinsic+json": {
              "type": "dataframe",
              "variable_name": "data"
            }
          },
          "metadata": {},
          "execution_count": 5
        }
      ]
    },
    {
      "cell_type": "code",
      "source": [
        "print(len(data))\n",
        "print(data['rating'].unique().tolist())\n",
        "print(len(data['userId'].unique().tolist()))\n",
        "print(len(data['movieId'].unique().tolist()))"
      ],
      "metadata": {
        "colab": {
          "base_uri": "https://localhost:8080/"
        },
        "id": "aE_pq-NqPxNl",
        "outputId": "0a5317d7-b266-4c75-82a1-445c96a8ab5f"
      },
      "execution_count": 8,
      "outputs": [
        {
          "output_type": "stream",
          "name": "stdout",
          "text": [
            "100836\n",
            "[4.0, 5.0, 3.0, 2.0, 1.0, 4.5, 3.5, 2.5, 0.5, 1.5]\n",
            "610\n",
            "9724\n"
          ]
        }
      ]
    },
    {
      "cell_type": "markdown",
      "source": [
        "## Pandas DataFrame to Surprise Dataset"
      ],
      "metadata": {
        "id": "SxOR3JeGKLa5"
      }
    },
    {
      "cell_type": "code",
      "source": [
        "reader = Reader(rating_scale=(0,5))\n",
        "\n",
        "data = Dataset.load_from_df(data[['userId', 'movieId', 'rating']], reader)\n",
        "\n",
        "print(type(data))"
      ],
      "metadata": {
        "execution": {
          "iopub.status.busy": "2023-03-19T08:29:58.696457Z",
          "iopub.execute_input": "2023-03-19T08:29:58.696828Z",
          "iopub.status.idle": "2023-03-19T08:29:58.719592Z",
          "shell.execute_reply.started": "2023-03-19T08:29:58.696794Z",
          "shell.execute_reply": "2023-03-19T08:29:58.718161Z"
        },
        "trusted": true,
        "id": "MTUIRTEkKLa5",
        "colab": {
          "base_uri": "https://localhost:8080/"
        },
        "outputId": "c57e4bdb-0d87-44e5-d98f-ebfc663f5b55"
      },
      "execution_count": 9,
      "outputs": [
        {
          "output_type": "stream",
          "name": "stdout",
          "text": [
            "<class 'surprise.dataset.DatasetAutoFolds'>\n"
          ]
        }
      ]
    },
    {
      "cell_type": "code",
      "source": [
        "# Split the data into training and testing sets\n",
        "trainset, testset = train_test_split(data, test_size=0.25)\n",
        "print(type(trainset))"
      ],
      "metadata": {
        "execution": {
          "iopub.status.busy": "2023-03-19T08:29:58.721246Z",
          "iopub.execute_input": "2023-03-19T08:29:58.721592Z",
          "iopub.status.idle": "2023-03-19T08:29:58.750906Z",
          "shell.execute_reply.started": "2023-03-19T08:29:58.721559Z",
          "shell.execute_reply": "2023-03-19T08:29:58.749796Z"
        },
        "trusted": true,
        "id": "LnuoxIKyKLa5",
        "colab": {
          "base_uri": "https://localhost:8080/"
        },
        "outputId": "bfd9e08b-4391-4862-fa48-25c0c9b76972"
      },
      "execution_count": 10,
      "outputs": [
        {
          "output_type": "stream",
          "name": "stdout",
          "text": [
            "<class 'surprise.trainset.Trainset'>\n"
          ]
        }
      ]
    },
    {
      "cell_type": "code",
      "source": [
        "import itertools\n",
        "\n",
        "for uid, iid, rating in itertools.islice(trainset.all_ratings(), 5):\n",
        "  print(f\"User {uid} rated item {iid} with a rating of {rating}\")\n",
        "\n",
        "print()\n",
        "for uid, iid, rating in testset[:5]:\n",
        "  print(f\"User {uid} rated item {iid} with a rating of {rating}\")\n",
        "\n",
        "print()\n",
        "print(trainset.n_ratings, len(testset))"
      ],
      "metadata": {
        "execution": {
          "iopub.status.busy": "2023-03-19T08:29:58.753595Z",
          "iopub.execute_input": "2023-03-19T08:29:58.753968Z",
          "iopub.status.idle": "2023-03-19T08:29:58.773153Z",
          "shell.execute_reply.started": "2023-03-19T08:29:58.75393Z",
          "shell.execute_reply": "2023-03-19T08:29:58.771358Z"
        },
        "trusted": true,
        "id": "TiIv1U1fKLa6",
        "colab": {
          "base_uri": "https://localhost:8080/"
        },
        "outputId": "bd73fea0-5e1c-432b-ebd6-224dfce3e1de"
      },
      "execution_count": 11,
      "outputs": [
        {
          "output_type": "stream",
          "name": "stdout",
          "text": [
            "User 0 rated item 0 with a rating of 5.0\n",
            "User 0 rated item 433 with a rating of 1.0\n",
            "User 0 rated item 967 with a rating of 4.0\n",
            "User 0 rated item 117 with a rating of 2.0\n",
            "User 0 rated item 497 with a rating of 2.0\n",
            "\n",
            "User 606 rated item 2367 with a rating of 3.5\n",
            "User 610 rated item 34323 with a rating of 4.0\n",
            "User 51 rated item 4340 with a rating of 2.5\n",
            "User 268 rated item 260 with a rating of 4.0\n",
            "User 322 rated item 4010 with a rating of 3.0\n",
            "\n",
            "75627 25209\n"
          ]
        }
      ]
    },
    {
      "cell_type": "markdown",
      "source": [
        "## SVD (Singular Value Decomposition)\n",
        "* Extrae características latentes entre usuarios y artículos descomponiendo el conjunto de datos en un espacio de baja dimensión.\n",
        "* Es eficiente desde el punto de vista computacional en comparación con los algoritmos de filtrado colaborativo basados en memoria, por lo que también es adecuado para grandes conjuntos de datos.\n",
        "* Es necesario ajustar muchos parámetros, como el número de elementos a recomendar y cómo se calcula la similitud de los elementos."
      ],
      "metadata": {
        "id": "ao84f32vKLa6"
      }
    },
    {
      "cell_type": "code",
      "source": [
        "# Use the SVD algorithm to train the model\n",
        "svd_model = SVD()\n",
        "svd_model.fit(trainset)"
      ],
      "metadata": {
        "execution": {
          "iopub.status.busy": "2023-03-19T08:29:58.775054Z",
          "iopub.execute_input": "2023-03-19T08:29:58.775464Z",
          "iopub.status.idle": "2023-03-19T08:29:59.358235Z",
          "shell.execute_reply.started": "2023-03-19T08:29:58.775429Z",
          "shell.execute_reply": "2023-03-19T08:29:59.356815Z"
        },
        "trusted": true,
        "id": "Z8U6cNA7KLa6",
        "colab": {
          "base_uri": "https://localhost:8080/"
        },
        "outputId": "a07b0bca-b94e-41a9-bf8b-213c51134bc3"
      },
      "execution_count": 12,
      "outputs": [
        {
          "output_type": "execute_result",
          "data": {
            "text/plain": [
              "<surprise.prediction_algorithms.matrix_factorization.SVD at 0x7a12bfacf190>"
            ]
          },
          "metadata": {},
          "execution_count": 12
        }
      ]
    },
    {
      "cell_type": "code",
      "source": [
        "# Test the model on the testing set\n",
        "predictions = svd_model.test(testset)"
      ],
      "metadata": {
        "execution": {
          "iopub.status.busy": "2023-03-19T08:29:59.360163Z",
          "iopub.execute_input": "2023-03-19T08:29:59.360669Z",
          "iopub.status.idle": "2023-03-19T08:29:59.39502Z",
          "shell.execute_reply.started": "2023-03-19T08:29:59.36062Z",
          "shell.execute_reply": "2023-03-19T08:29:59.393763Z"
        },
        "trusted": true,
        "id": "hLPbPCh2KLa6"
      },
      "execution_count": 13,
      "outputs": []
    },
    {
      "cell_type": "code",
      "source": [
        "for uid, iid, rating in testset[:5]:\n",
        "  print(f\"User {uid} rated item {iid} with a rating of {rating}\")"
      ],
      "metadata": {
        "execution": {
          "iopub.status.busy": "2023-03-19T08:29:59.396672Z",
          "iopub.execute_input": "2023-03-19T08:29:59.398009Z",
          "iopub.status.idle": "2023-03-19T08:29:59.404204Z",
          "shell.execute_reply.started": "2023-03-19T08:29:59.397926Z",
          "shell.execute_reply": "2023-03-19T08:29:59.403035Z"
        },
        "trusted": true,
        "id": "TJG9uGA-KLa7",
        "colab": {
          "base_uri": "https://localhost:8080/"
        },
        "outputId": "51624470-94f5-405c-a759-9f93233c14c3"
      },
      "execution_count": 14,
      "outputs": [
        {
          "output_type": "stream",
          "name": "stdout",
          "text": [
            "User 606 rated item 2367 with a rating of 3.5\n",
            "User 610 rated item 34323 with a rating of 4.0\n",
            "User 51 rated item 4340 with a rating of 2.5\n",
            "User 268 rated item 260 with a rating of 4.0\n",
            "User 322 rated item 4010 with a rating of 3.0\n"
          ]
        }
      ]
    },
    {
      "cell_type": "markdown",
      "source": [
        "Las **'predicciones'** son una lista de tuplas de la forma (usuario, artículo, calificación_actual, calificación_prevista, detalles). El valor de predicted_rating es est."
      ],
      "metadata": {
        "id": "aBGFvHrPKLa7"
      }
    },
    {
      "cell_type": "code",
      "source": [
        "for prediction in predictions[0:5]:\n",
        "  print(prediction)"
      ],
      "metadata": {
        "execution": {
          "iopub.status.busy": "2023-03-19T08:29:59.405918Z",
          "iopub.execute_input": "2023-03-19T08:29:59.406377Z",
          "iopub.status.idle": "2023-03-19T08:29:59.419332Z",
          "shell.execute_reply.started": "2023-03-19T08:29:59.406338Z",
          "shell.execute_reply": "2023-03-19T08:29:59.417661Z"
        },
        "trusted": true,
        "id": "kVhNv8VOKLa7",
        "colab": {
          "base_uri": "https://localhost:8080/"
        },
        "outputId": "9ac9c28c-ff9c-424c-bc8a-a37aae5e9420"
      },
      "execution_count": 15,
      "outputs": [
        {
          "output_type": "stream",
          "name": "stdout",
          "text": [
            "user: 606        item: 2367       r_ui = 3.50   est = 3.04   {'was_impossible': False}\n",
            "user: 610        item: 34323      r_ui = 4.00   est = 3.78   {'was_impossible': False}\n",
            "user: 51         item: 4340       r_ui = 2.50   est = 3.23   {'was_impossible': False}\n",
            "user: 268        item: 260        r_ui = 4.00   est = 3.43   {'was_impossible': False}\n",
            "user: 322        item: 4010       r_ui = 3.00   est = 2.98   {'was_impossible': False}\n"
          ]
        }
      ]
    },
    {
      "cell_type": "code",
      "source": [
        "# Print the performance metrics\n",
        "accuracy.rmse(predictions)"
      ],
      "metadata": {
        "execution": {
          "iopub.status.busy": "2023-03-19T08:29:59.420912Z",
          "iopub.execute_input": "2023-03-19T08:29:59.42197Z",
          "iopub.status.idle": "2023-03-19T08:29:59.439448Z",
          "shell.execute_reply.started": "2023-03-19T08:29:59.421918Z",
          "shell.execute_reply": "2023-03-19T08:29:59.437984Z"
        },
        "trusted": true,
        "id": "f88LlyMCKLa7",
        "colab": {
          "base_uri": "https://localhost:8080/"
        },
        "outputId": "b8393882-6bea-442b-e3ae-42f6cf24ab83"
      },
      "execution_count": 16,
      "outputs": [
        {
          "output_type": "stream",
          "name": "stdout",
          "text": [
            "RMSE: 0.8816\n"
          ]
        },
        {
          "output_type": "execute_result",
          "data": {
            "text/plain": [
              "0.8816246478960099"
            ]
          },
          "metadata": {},
          "execution_count": 16
        }
      ]
    },
    {
      "cell_type": "code",
      "source": [
        "true_ratings = [pred.r_ui for pred in predictions]\n",
        "est_ratings = [pred.est for pred in predictions]\n",
        "uids = [pred.uid for pred in predictions]"
      ],
      "metadata": {
        "execution": {
          "iopub.status.busy": "2023-03-19T08:29:59.444335Z",
          "iopub.execute_input": "2023-03-19T08:29:59.444773Z",
          "iopub.status.idle": "2023-03-19T08:29:59.453831Z",
          "shell.execute_reply.started": "2023-03-19T08:29:59.444735Z",
          "shell.execute_reply": "2023-03-19T08:29:59.452339Z"
        },
        "trusted": true,
        "id": "HkwCKRSjKLa7"
      },
      "execution_count": 17,
      "outputs": []
    },
    {
      "cell_type": "code",
      "source": [
        "data = pd.DataFrame(columns=[\"true\",\"predicted\"])\n",
        "data[\"true\"]=true_ratings\n",
        "data[\"predicted\"]=est_ratings\n",
        "g = sns.jointplot(data=data,x=\"true\", y=\"predicted\", kind=\"kde\",)\n",
        "g.fig.suptitle('Test predictions',fontsize=12)\n",
        "plt.show()"
      ],
      "metadata": {
        "execution": {
          "iopub.status.busy": "2023-03-19T08:29:59.45576Z",
          "iopub.execute_input": "2023-03-19T08:29:59.456233Z",
          "iopub.status.idle": "2023-03-19T08:30:01.502889Z",
          "shell.execute_reply.started": "2023-03-19T08:29:59.456187Z",
          "shell.execute_reply": "2023-03-19T08:30:01.501556Z"
        },
        "trusted": true,
        "id": "9rnQa873KLa8",
        "colab": {
          "base_uri": "https://localhost:8080/",
          "height": 609
        },
        "outputId": "c94803e9-04de-400c-9398-c08faf3ebf92"
      },
      "execution_count": 18,
      "outputs": [
        {
          "output_type": "display_data",
          "data": {
            "text/plain": [
              "<Figure size 600x600 with 3 Axes>"
            ],
            "image/png": "[encoded data removed]"
          },
          "metadata": {}
        }
      ]
    },
    {
      "cell_type": "markdown",
      "source": [
        "## Recommend unseen movies for test set users"
      ],
      "metadata": {
        "id": "rFHjB1ERKLa8"
      }
    },
    {
      "cell_type": "code",
      "source": [
        "users=list(set(uids))\n",
        "print(users[0:5])"
      ],
      "metadata": {
        "execution": {
          "iopub.status.busy": "2023-03-19T08:30:01.504249Z",
          "iopub.execute_input": "2023-03-19T08:30:01.50468Z",
          "iopub.status.idle": "2023-03-19T08:30:01.512799Z",
          "shell.execute_reply.started": "2023-03-19T08:30:01.504635Z",
          "shell.execute_reply": "2023-03-19T08:30:01.511298Z"
        },
        "trusted": true,
        "id": "m5ksk83pKLa8",
        "colab": {
          "base_uri": "https://localhost:8080/"
        },
        "outputId": "318cf471-ad47-4051-d458-2c30e68269ad"
      },
      "execution_count": 19,
      "outputs": [
        {
          "output_type": "stream",
          "name": "stdout",
          "text": [
            "[1, 2, 3, 4, 5]\n"
          ]
        }
      ]
    },
    {
      "cell_type": "code",
      "source": [
        "movie_URL = 'https://docs.google.com/spreadsheets/d/e/2PACX-1vQkPpgtCuGP7qiUn6BPYAQBhINwju81jwFFD59DOUeR81tfCwJKpsupmsEMCSdNi6PiqtUljuG8DLaw/pub?gid=1235402153&single=true&output=csv'"
      ],
      "metadata": {
        "id": "lIwQbFpkSSZP"
      },
      "execution_count": 20,
      "outputs": []
    },
    {
      "cell_type": "code",
      "source": [
        "movie = pd.read_csv(movie_URL)\n",
        "mapping = dict(zip(movie['movieId'], movie['title']))"
      ],
      "metadata": {
        "execution": {
          "iopub.status.busy": "2023-03-19T08:30:01.514828Z",
          "iopub.execute_input": "2023-03-19T08:30:01.515674Z",
          "iopub.status.idle": "2023-03-19T08:30:01.548081Z",
          "shell.execute_reply.started": "2023-03-19T08:30:01.515624Z",
          "shell.execute_reply": "2023-03-19T08:30:01.546413Z"
        },
        "trusted": true,
        "id": "ECMrKg3MKLa8"
      },
      "execution_count": 21,
      "outputs": []
    },
    {
      "cell_type": "code",
      "source": [
        "movie.head()"
      ],
      "metadata": {
        "id": "B_0HTKrgp9mk",
        "outputId": "56f8fe91-1093-4784-e0e0-03ebb629eca3",
        "colab": {
          "base_uri": "https://localhost:8080/",
          "height": 206
        }
      },
      "execution_count": 22,
      "outputs": [
        {
          "output_type": "execute_result",
          "data": {
            "text/plain": [
              "   movieId                               title  \\\n",
              "0        1                    Toy Story (1995)   \n",
              "1        2                      Jumanji (1995)   \n",
              "2        3             Grumpier Old Men (1995)   \n",
              "3        4            Waiting to Exhale (1995)   \n",
              "4        5  Father of the Bride Part II (1995)   \n",
              "\n",
              "                                        genres  \n",
              "0  Adventure|Animation|Children|Comedy|Fantasy  \n",
              "1                   Adventure|Children|Fantasy  \n",
              "2                               Comedy|Romance  \n",
              "3                         Comedy|Drama|Romance  \n",
              "4                                       Comedy  "
            ],
            "text/html": [
              "\n",
              "  <div id=\"df-987e2163-5bc5-45cb-8c84-31958233f069\" class=\"colab-df-container\">\n",
              "    <div>\n",
              "<style scoped>\n",
              "    .dataframe tbody tr th:only-of-type {\n",
              "        vertical-align: middle;\n",
              "    }\n",
              "\n",
              "    .dataframe tbody tr th {\n",
              "        vertical-align: top;\n",
              "    }\n",
              "\n",
              "    .dataframe thead th {\n",
              "        text-align: right;\n",
              "    }\n",
              "</style>\n",
              "<table border=\"1\" class=\"dataframe\">\n",
              "  <thead>\n",
              "    <tr style=\"text-align: right;\">\n",
              "      <th></th>\n",
              "      <th>movieId</th>\n",
              "      <th>title</th>\n",
              "      <th>genres</th>\n",
              "    </tr>\n",
              "  </thead>\n",
              "  <tbody>\n",
              "    <tr>\n",
              "      <th>0</th>\n",
              "      <td>1</td>\n",
              "      <td>Toy Story (1995)</td>\n",
              "      <td>Adventure|Animation|Children|Comedy|Fantasy</td>\n",
              "    </tr>\n",
              "    <tr>\n",
              "      <th>1</th>\n",
              "      <td>2</td>\n",
              "      <td>Jumanji (1995)</td>\n",
              "      <td>Adventure|Children|Fantasy</td>\n",
              "    </tr>\n",
              "    <tr>\n",
              "      <th>2</th>\n",
              "      <td>3</td>\n",
              "      <td>Grumpier Old Men (1995)</td>\n",
              "      <td>Comedy|Romance</td>\n",
              "    </tr>\n",
              "    <tr>\n",
              "      <th>3</th>\n",
              "      <td>4</td>\n",
              "      <td>Waiting to Exhale (1995)</td>\n",
              "      <td>Comedy|Drama|Romance</td>\n",
              "    </tr>\n",
              "    <tr>\n",
              "      <th>4</th>\n",
              "      <td>5</td>\n",
              "      <td>Father of the Bride Part II (1995)</td>\n",
              "      <td>Comedy</td>\n",
              "    </tr>\n",
              "  </tbody>\n",
              "</table>\n",
              "</div>\n",
              "    <div class=\"colab-df-buttons\">\n",
              "\n",
              "  <div class=\"colab-df-container\">\n",
              "    <button class=\"colab-df-convert\" onclick=\"convertToInteractive('df-987e2163-5bc5-45cb-8c84-31958233f069')\"\n",
              "            title=\"Convert this dataframe to an interactive table.\"\n",
              "            style=\"display:none;\">\n",
              "\n",
              "  <svg xmlns=\"http://www.w3.org/2000/svg\" height=\"24px\" viewBox=\"0 -960 960 960\">\n",
              "    <path d=\"M120-120v-720h720v720H120Zm60-500h600v-160H180v160Zm220 220h160v-160H400v160Zm0 220h160v-160H400v160ZM180-400h160v-160H180v160Zm440 0h160v-160H620v160ZM180-180h160v-160H180v160Zm440 0h160v-160H620v160Z\"/>\n",
              "  </svg>\n",
              "    </button>\n",
              "\n",
              "  <style>\n",
              "    .colab-df-container {\n",
              "      display:flex;\n",
              "      gap: 12px;\n",
              "    }\n",
              "\n",
              "    .colab-df-convert {\n",
              "      background-color: #E8F0FE;\n",
              "      border: none;\n",
              "      border-radius: 50%;\n",
              "      cursor: pointer;\n",
              "      display: none;\n",
              "      fill: #1967D2;\n",
              "      height: 32px;\n",
              "      padding: 0 0 0 0;\n",
              "      width: 32px;\n",
              "    }\n",
              "\n",
              "    .colab-df-convert:hover {\n",
              "      background-color: #E2EBFA;\n",
              "      box-shadow: 0px 1px 2px rgba(60, 64, 67, 0.3), 0px 1px 3px 1px rgba(60, 64, 67, 0.15);\n",
              "      fill: #174EA6;\n",
              "    }\n",
              "\n",
              "    .colab-df-buttons div {\n",
              "      margin-bottom: 4px;\n",
              "    }\n",
              "\n",
              "    [theme=dark] .colab-df-convert {\n",
              "      background-color: #3B4455;\n",
              "      fill: #D2E3FC;\n",
              "    }\n",
              "\n",
              "    [theme=dark] .colab-df-convert:hover {\n",
              "      background-color: #434B5C;\n",
              "      box-shadow: 0px 1px 3px 1px rgba(0, 0, 0, 0.15);\n",
              "      filter: drop-shadow(0px 1px 2px rgba(0, 0, 0, 0.3));\n",
              "      fill: #FFFFFF;\n",
              "    }\n",
              "  </style>\n",
              "\n",
              "    <script>\n",
              "      const buttonEl =\n",
              "        document.querySelector('#df-987e2163-5bc5-45cb-8c84-31958233f069 button.colab-df-convert');\n",
              "      buttonEl.style.display =\n",
              "        google.colab.kernel.accessAllowed ? 'block' : 'none';\n",
              "\n",
              "      async function convertToInteractive(key) {\n",
              "        const element = document.querySelector('#df-987e2163-5bc5-45cb-8c84-31958233f069');\n",
              "        const dataTable =\n",
              "          await google.colab.kernel.invokeFunction('convertToInteractive',\n",
              "                                                    [key], {});\n",
              "        if (!dataTable) return;\n",
              "\n",
              "        const docLinkHtml = 'Like what you see? Visit the ' +\n",
              "          '<a target=\"_blank\" href=https://colab.research.google.com/notebooks/data_table.ipynb>data table notebook</a>'\n",
              "          + ' to learn more about interactive tables.';\n",
              "        element.innerHTML = '';\n",
              "        dataTable['output_type'] = 'display_data';\n",
              "        await google.colab.output.renderOutput(dataTable, element);\n",
              "        const docLink = document.createElement('div');\n",
              "        docLink.innerHTML = docLinkHtml;\n",
              "        element.appendChild(docLink);\n",
              "      }\n",
              "    </script>\n",
              "  </div>\n",
              "\n",
              "\n",
              "<div id=\"df-3f7edfe0-d984-450b-93fa-786f6bef270d\">\n",
              "  <button class=\"colab-df-quickchart\" onclick=\"quickchart('df-3f7edfe0-d984-450b-93fa-786f6bef270d')\"\n",
              "            title=\"Suggest charts\"\n",
              "            style=\"display:none;\">\n",
              "\n",
              "<svg xmlns=\"http://www.w3.org/2000/svg\" height=\"24px\"viewBox=\"0 0 24 24\"\n",
              "     width=\"24px\">\n",
              "    <g>\n",
              "        <path d=\"M19 3H5c-1.1 0-2 .9-2 2v14c0 1.1.9 2 2 2h14c1.1 0 2-.9 2-2V5c0-1.1-.9-2-2-2zM9 17H7v-7h2v7zm4 0h-2V7h2v10zm4 0h-2v-4h2v4z\"/>\n",
              "    </g>\n",
              "</svg>\n",
              "  </button>\n",
              "\n",
              "<style>\n",
              "  .colab-df-quickchart {\n",
              "      --bg-color: #E8F0FE;\n",
              "      --fill-color: #1967D2;\n",
              "      --hover-bg-color: #E2EBFA;\n",
              "      --hover-fill-color: #174EA6;\n",
              "      --disabled-fill-color: #AAA;\n",
              "      --disabled-bg-color: #DDD;\n",
              "  }\n",
              "\n",
              "  [theme=dark] .colab-df-quickchart {\n",
              "      --bg-color: #3B4455;\n",
              "      --fill-color: #D2E3FC;\n",
              "      --hover-bg-color: #434B5C;\n",
              "      --hover-fill-color: #FFFFFF;\n",
              "      --disabled-bg-color: #3B4455;\n",
              "      --disabled-fill-color: #666;\n",
              "  }\n",
              "\n",
              "  .colab-df-quickchart {\n",
              "    background-color: var(--bg-color);\n",
              "    border: none;\n",
              "    border-radius: 50%;\n",
              "    cursor: pointer;\n",
              "    display: none;\n",
              "    fill: var(--fill-color);\n",
              "    height: 32px;\n",
              "    padding: 0;\n",
              "    width: 32px;\n",
              "  }\n",
              "\n",
              "  .colab-df-quickchart:hover {\n",
              "    background-color: var(--hover-bg-color);\n",
              "    box-shadow: 0 1px 2px rgba(60, 64, 67, 0.3), 0 1px 3px 1px rgba(60, 64, 67, 0.15);\n",
              "    fill: var(--button-hover-fill-color);\n",
              "  }\n",
              "\n",
              "  .colab-df-quickchart-complete:disabled,\n",
              "  .colab-df-quickchart-complete:disabled:hover {\n",
              "    background-color: var(--disabled-bg-color);\n",
              "    fill: var(--disabled-fill-color);\n",
              "    box-shadow: none;\n",
              "  }\n",
              "\n",
              "  .colab-df-spinner {\n",
              "    border: 2px solid var(--fill-color);\n",
              "    border-color: transparent;\n",
              "    border-bottom-color: var(--fill-color);\n",
              "    animation:\n",
              "      spin 1s steps(1) infinite;\n",
              "  }\n",
              "\n",
              "  @keyframes spin {\n",
              "    0% {\n",
              "      border-color: transparent;\n",
              "      border-bottom-color: var(--fill-color);\n",
              "      border-left-color: var(--fill-color);\n",
              "    }\n",
              "    20% {\n",
              "      border-color: transparent;\n",
              "      border-left-color: var(--fill-color);\n",
              "      border-top-color: var(--fill-color);\n",
              "    }\n",
              "    30% {\n",
              "      border-color: transparent;\n",
              "      border-left-color: var(--fill-color);\n",
              "      border-top-color: var(--fill-color);\n",
              "      border-right-color: var(--fill-color);\n",
              "    }\n",
              "    40% {\n",
              "      border-color: transparent;\n",
              "      border-right-color: var(--fill-color);\n",
              "      border-top-color: var(--fill-color);\n",
              "    }\n",
              "    60% {\n",
              "      border-color: transparent;\n",
              "      border-right-color: var(--fill-color);\n",
              "    }\n",
              "    80% {\n",
              "      border-color: transparent;\n",
              "      border-right-color: var(--fill-color);\n",
              "      border-bottom-color: var(--fill-color);\n",
              "    }\n",
              "    90% {\n",
              "      border-color: transparent;\n",
              "      border-bottom-color: var(--fill-color);\n",
              "    }\n",
              "  }\n",
              "</style>\n",
              "\n",
              "  <script>\n",
              "    async function quickchart(key) {\n",
              "      const quickchartButtonEl =\n",
              "        document.querySelector('#' + key + ' button');\n",
              "      quickchartButtonEl.disabled = true;  // To prevent multiple clicks.\n",
              "      quickchartButtonEl.classList.add('colab-df-spinner');\n",
              "      try {\n",
              "        const charts = await google.colab.kernel.invokeFunction(\n",
              "            'suggestCharts', [key], {});\n",
              "      } catch (error) {\n",
              "        console.error('Error during call to suggestCharts:', error);\n",
              "      }\n",
              "      quickchartButtonEl.classList.remove('colab-df-spinner');\n",
              "      quickchartButtonEl.classList.add('colab-df-quickchart-complete');\n",
              "    }\n",
              "    (() => {\n",
              "      let quickchartButtonEl =\n",
              "        document.querySelector('#df-3f7edfe0-d984-450b-93fa-786f6bef270d button');\n",
              "      quickchartButtonEl.style.display =\n",
              "        google.colab.kernel.accessAllowed ? 'block' : 'none';\n",
              "    })();\n",
              "  </script>\n",
              "</div>\n",
              "\n",
              "    </div>\n",
              "  </div>\n"
            ],
            "application/vnd.google.colaboratory.intrinsic+json": {
              "type": "dataframe",
              "variable_name": "movie",
              "summary": "{\n  \"name\": \"movie\",\n  \"rows\": 9742,\n  \"fields\": [\n    {\n      \"column\": \"movieId\",\n      \"properties\": {\n        \"dtype\": \"number\",\n        \"std\": 52160,\n        \"min\": 1,\n        \"max\": 193609,\n        \"num_unique_values\": 9742,\n        \"samples\": [\n          45635,\n          1373,\n          7325\n        ],\n        \"semantic_type\": \"\",\n        \"description\": \"\"\n      }\n    },\n    {\n      \"column\": \"title\",\n      \"properties\": {\n        \"dtype\": \"string\",\n        \"num_unique_values\": 9737,\n        \"samples\": [\n          \"Teenage Mutant Ninja Turtles (2014)\",\n          \"America's Sweethearts (2001)\",\n          \"Cast Away (2000)\"\n        ],\n        \"semantic_type\": \"\",\n        \"description\": \"\"\n      }\n    },\n    {\n      \"column\": \"genres\",\n      \"properties\": {\n        \"dtype\": \"category\",\n        \"num_unique_values\": 951,\n        \"samples\": [\n          \"Crime|Mystery|Romance|Thriller\",\n          \"Action|Adventure|Comedy|Western\",\n          \"Crime|Drama|Musical\"\n        ],\n        \"semantic_type\": \"\",\n        \"description\": \"\"\n      }\n    }\n  ]\n}"
            }
          },
          "metadata": {},
          "execution_count": 22
        }
      ]
    },
    {
      "cell_type": "code",
      "source": [
        "# items which the user not yet evaluate\n",
        "items = trainset.build_anti_testset()\n",
        "for user in users[0:5]:\n",
        "  user_items = list(filter(lambda x: x[0] == user, items))\n",
        "  print()\n",
        "  print(user,len(user_items))\n",
        "  # Generate recommendation\n",
        "  recommendations = svd_model.test(user_items)\n",
        "  recommendations.sort(key=operator.itemgetter(3), reverse=True)\n",
        "  print(f\"User {user} recommendations:\")\n",
        "  for r in recommendations[0:5]:\n",
        "    print(f\" [Title] {mapping[r[1]]}, [Estimated Rating] {round(r[3],3)}\")"
      ],
      "metadata": {
        "execution": {
          "iopub.status.busy": "2023-03-19T08:30:01.550218Z",
          "iopub.execute_input": "2023-03-19T08:30:01.551195Z",
          "iopub.status.idle": "2023-03-19T08:30:04.44728Z",
          "shell.execute_reply.started": "2023-03-19T08:30:01.551131Z",
          "shell.execute_reply": "2023-03-19T08:30:04.445903Z"
        },
        "trusted": true,
        "id": "s2URzwhlKLa8",
        "colab": {
          "base_uri": "https://localhost:8080/"
        },
        "outputId": "e3332008-1821-458d-8279-adf0d0ae28be"
      },
      "execution_count": 23,
      "outputs": [
        {
          "output_type": "stream",
          "name": "stdout",
          "text": [
            "\n",
            "1 8563\n",
            "User 1 recommendations:\n",
            " [Title] Goodfellas (1990), [Estimated Rating] 5\n",
            " [Title] Memento (2000), [Estimated Rating] 5\n",
            " [Title] Lord of the Rings: The Return of the King, The (2003), [Estimated Rating] 5\n",
            " [Title] Apocalypse Now (1979), [Estimated Rating] 5\n",
            " [Title] Blade Runner (1982), [Estimated Rating] 5\n",
            "\n",
            "2 8714\n",
            "User 2 recommendations:\n",
            " [Title] Lawrence of Arabia (1962), [Estimated Rating] 4.664\n",
            " [Title] Casablanca (1942), [Estimated Rating] 4.611\n",
            " [Title] Godfather, The (1972), [Estimated Rating] 4.512\n",
            " [Title] Spirited Away (Sen to Chihiro no kamikakushi) (2001), [Estimated Rating] 4.486\n",
            " [Title] Bound (1996), [Estimated Rating] 4.478\n",
            "\n",
            "3 8710\n",
            "User 3 recommendations:\n",
            " [Title] Requiem for a Dream (2000), [Estimated Rating] 4.167\n",
            " [Title] American Beauty (1999), [Estimated Rating] 4.16\n",
            " [Title] Silence of the Lambs, The (1991), [Estimated Rating] 3.986\n",
            " [Title] Casablanca (1942), [Estimated Rating] 3.892\n",
            " [Title] Reservoir Dogs (1992), [Estimated Rating] 3.85\n",
            "\n",
            "4 8585\n",
            "User 4 recommendations:\n",
            " [Title] Dark Knight, The (2008), [Estimated Rating] 4.613\n",
            " [Title] Matrix, The (1999), [Estimated Rating] 4.605\n",
            " [Title] Requiem for a Dream (2000), [Estimated Rating] 4.59\n",
            " [Title] Clockwork Orange, A (1971), [Estimated Rating] 4.562\n",
            " [Title] Wallace & Gromit in The Curse of the Were-Rabbit (2005), [Estimated Rating] 4.505\n",
            "\n",
            "5 8710\n",
            "User 5 recommendations:\n",
            " [Title] Dr. Strangelove or: How I Learned to Stop Worrying and Love the Bomb (1964), [Estimated Rating] 4.393\n",
            " [Title] Usual Suspects, The (1995), [Estimated Rating] 4.37\n",
            " [Title] Boogie Nights (1997), [Estimated Rating] 4.359\n",
            " [Title] Lawrence of Arabia (1962), [Estimated Rating] 4.341\n",
            " [Title] One Flew Over the Cuckoo's Nest (1975), [Estimated Rating] 4.336\n"
          ]
        }
      ]
    },
    {
      "cell_type": "markdown",
      "source": [
        "## KNNBasic (k-Nearest Neighbors)\n",
        "* Basándose en la similitud de usuarios y artículos, encuentra los usuarios y artículos más similares y recomienda los artículos que podrían gustarles.\n",
        "* La eficiencia computacional es relativamente alta, por lo que es adecuado para conjuntos de datos pequeños.\n",
        "* El número de parámetros es relativamente pequeño, por lo que es fácil de ajustar."
      ],
      "metadata": {
        "id": "NhAXAOCAZfXC"
      }
    },
    {
      "cell_type": "code",
      "source": [
        "# Use the SVD algorithm to train the model\n",
        "knnb_model = KNNBasic()\n",
        "knnb_model.fit(trainset)"
      ],
      "metadata": {
        "colab": {
          "base_uri": "https://localhost:8080/"
        },
        "id": "g2l8lUKbZe2p",
        "outputId": "48b27b76-2351-4cd8-defd-ba8e2060c829"
      },
      "execution_count": 24,
      "outputs": [
        {
          "output_type": "stream",
          "name": "stdout",
          "text": [
            "Computing the msd similarity matrix...\n",
            "Done computing similarity matrix.\n"
          ]
        },
        {
          "output_type": "execute_result",
          "data": {
            "text/plain": [
              "<surprise.prediction_algorithms.knns.KNNBasic at 0x7a12bfacc790>"
            ]
          },
          "metadata": {},
          "execution_count": 24
        }
      ]
    },
    {
      "cell_type": "code",
      "source": [
        "# Test the model on the testing set\n",
        "predictions = knnb_model.test(testset)"
      ],
      "metadata": {
        "id": "oHeaml_KZoYZ"
      },
      "execution_count": 25,
      "outputs": []
    },
    {
      "cell_type": "code",
      "source": [
        "for uid, iid, rating in testset[:5]:\n",
        "  print(f\"User {uid} rated item {iid} with a rating of {rating}\")"
      ],
      "metadata": {
        "colab": {
          "base_uri": "https://localhost:8080/"
        },
        "id": "6RqEgXgaZx1y",
        "outputId": "c14ec7b7-b5e2-45c5-8d73-68941c13c7b8"
      },
      "execution_count": 26,
      "outputs": [
        {
          "output_type": "stream",
          "name": "stdout",
          "text": [
            "User 606 rated item 2367 with a rating of 3.5\n",
            "User 610 rated item 34323 with a rating of 4.0\n",
            "User 51 rated item 4340 with a rating of 2.5\n",
            "User 268 rated item 260 with a rating of 4.0\n",
            "User 322 rated item 4010 with a rating of 3.0\n"
          ]
        }
      ]
    },
    {
      "cell_type": "code",
      "source": [
        "for prediction in predictions[0:5]:\n",
        "  print(prediction)"
      ],
      "metadata": {
        "colab": {
          "base_uri": "https://localhost:8080/"
        },
        "id": "jScIx5NxZx5h",
        "outputId": "745a8c25-167a-4a66-a14a-86efca1c815a"
      },
      "execution_count": 27,
      "outputs": [
        {
          "output_type": "stream",
          "name": "stdout",
          "text": [
            "user: 606        item: 2367       r_ui = 3.50   est = 2.63   {'actual_k': 11, 'was_impossible': False}\n",
            "user: 610        item: 34323      r_ui = 4.00   est = 3.73   {'actual_k': 4, 'was_impossible': False}\n",
            "user: 51         item: 4340       r_ui = 2.50   est = 2.02   {'actual_k': 4, 'was_impossible': False}\n",
            "user: 268        item: 260        r_ui = 4.00   est = 4.07   {'actual_k': 40, 'was_impossible': False}\n",
            "user: 322        item: 4010       r_ui = 3.00   est = 2.68   {'actual_k': 6, 'was_impossible': False}\n"
          ]
        }
      ]
    },
    {
      "cell_type": "code",
      "source": [
        "# Print the performance metrics\n",
        "accuracy.rmse(predictions)"
      ],
      "metadata": {
        "colab": {
          "base_uri": "https://localhost:8080/"
        },
        "id": "ar1rxFevZx9l",
        "outputId": "fce88b36-aa47-4ecd-95e1-c928e90dba1b"
      },
      "execution_count": 28,
      "outputs": [
        {
          "output_type": "stream",
          "name": "stdout",
          "text": [
            "RMSE: 0.9595\n"
          ]
        },
        {
          "output_type": "execute_result",
          "data": {
            "text/plain": [
              "0.9595441154862961"
            ]
          },
          "metadata": {},
          "execution_count": 28
        }
      ]
    },
    {
      "cell_type": "code",
      "source": [
        "true_ratings = [pred.r_ui for pred in predictions]\n",
        "est_ratings = [pred.est for pred in predictions]\n",
        "uids = [pred.uid for pred in predictions]"
      ],
      "metadata": {
        "id": "Trjj2XbkZyBe"
      },
      "execution_count": 29,
      "outputs": []
    },
    {
      "cell_type": "code",
      "source": [
        "data = pd.DataFrame(columns=[\"true\",\"predicted\"])\n",
        "data[\"true\"]=true_ratings\n",
        "data[\"predicted\"]=est_ratings\n",
        "g = sns.jointplot(data=data,x=\"true\", y=\"predicted\", kind=\"kde\",)\n",
        "g.fig.suptitle('Test predictions',fontsize=12)\n",
        "plt.show()"
      ],
      "metadata": {
        "colab": {
          "base_uri": "https://localhost:8080/",
          "height": 609
        },
        "id": "Kp59hOXCZ5P8",
        "outputId": "457783bf-5ba9-453d-88c6-478275bb612f"
      },
      "execution_count": 30,
      "outputs": [
        {
          "output_type": "display_data",
          "data": {
            "text/plain": [
              "<Figure size 600x600 with 3 Axes>"
            ],
            "image/png": "[encoded data removed]"
          },
          "metadata": {}
        }
      ]
    },
    {
      "cell_type": "code",
      "source": [
        "# items which the user not yet evaluate\n",
        "items = trainset.build_anti_testset()\n",
        "for user in users[0:5]:\n",
        "  user_items = list(filter(lambda x: x[0] == user, items))\n",
        "  print()\n",
        "  print(user,len(user_items))\n",
        "  # Generate recommendation\n",
        "  recommendations = knnb_model.test(user_items)\n",
        "  recommendations.sort(key=operator.itemgetter(3), reverse=True)\n",
        "  print(f\"User {user} recommendations:\")\n",
        "  for r in recommendations[0:5]:\n",
        "    print(f\" [Title] {mapping[r[1]]}, [Estimated Rating] {round(r[3],3)}\")"
      ],
      "metadata": {
        "colab": {
          "base_uri": "https://localhost:8080/"
        },
        "id": "0cuJ4u4kZ5UF",
        "outputId": "f1a6458c-c955-423a-e195-1f9f97bda1e9"
      },
      "execution_count": 31,
      "outputs": [
        {
          "output_type": "stream",
          "name": "stdout",
          "text": [
            "\n",
            "1 8563\n",
            "User 1 recommendations:\n",
            " [Title] Little Murders (1971), [Estimated Rating] 5\n",
            " [Title] The Big Bus (1976), [Estimated Rating] 5\n",
            " [Title] Kung Fu Panda: Secrets of the Masters (2011), [Estimated Rating] 5\n",
            " [Title] Wonder Woman (2009), [Estimated Rating] 5\n",
            " [Title] My Life as McDull (Mak dau goo si) (2001), [Estimated Rating] 5\n",
            "\n",
            "2 8714\n",
            "User 2 recommendations:\n",
            " [Title] Colonel Chabert, Le (1994), [Estimated Rating] 5\n",
            " [Title] The Big Bus (1976), [Estimated Rating] 5\n",
            " [Title] Kung Fu Panda: Secrets of the Masters (2011), [Estimated Rating] 5\n",
            " [Title] Wonder Woman (2009), [Estimated Rating] 5\n",
            " [Title] Nine Lives of Tomas Katz, The (2000), [Estimated Rating] 5\n",
            "\n",
            "3 8710\n",
            "User 3 recommendations:\n",
            " [Title] Little Murders (1971), [Estimated Rating] 5\n",
            " [Title] The Big Bus (1976), [Estimated Rating] 5\n",
            " [Title] Wonder Woman (2009), [Estimated Rating] 5\n",
            " [Title] Dolls (2002), [Estimated Rating] 5\n",
            " [Title] My Life as McDull (Mak dau goo si) (2001), [Estimated Rating] 5\n",
            "\n",
            "4 8585\n",
            "User 4 recommendations:\n",
            " [Title] Little Murders (1971), [Estimated Rating] 5\n",
            " [Title] The Big Bus (1976), [Estimated Rating] 5\n",
            " [Title] Kung Fu Panda: Secrets of the Masters (2011), [Estimated Rating] 5\n",
            " [Title] Wonder Woman (2009), [Estimated Rating] 5\n",
            " [Title] My Life as McDull (Mak dau goo si) (2001), [Estimated Rating] 5\n",
            "\n",
            "5 8710\n",
            "User 5 recommendations:\n",
            " [Title] Little Murders (1971), [Estimated Rating] 5\n",
            " [Title] The Big Bus (1976), [Estimated Rating] 5\n",
            " [Title] Kung Fu Panda: Secrets of the Masters (2011), [Estimated Rating] 5\n",
            " [Title] Wonder Woman (2009), [Estimated Rating] 5\n",
            " [Title] My Life as McDull (Mak dau goo si) (2001), [Estimated Rating] 5\n"
          ]
        }
      ]
    },
    {
      "cell_type": "code",
      "source": [],
      "metadata": {
        "id": "5-TlVtp9cWIe"
      },
      "execution_count": null,
      "outputs": []
    }
  ]
}